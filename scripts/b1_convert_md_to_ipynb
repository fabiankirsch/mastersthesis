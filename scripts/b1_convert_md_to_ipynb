#!/bin/bash
# $1: filename without extension to convert and execute
# $2: conda environment / jupyter kernel

filename=$(sed 's/sections_in_progress\///g' <<< $1)
filename=$(sed 's/\.md//g' <<< $filename)
new_filename=$(sed 's/100_working_//g' <<< $1)

python scripts/convert_md_to_ipynb.py sections_in_progress/$1.md $2 $new_filename.ipynb
