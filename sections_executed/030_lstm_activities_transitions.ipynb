{
 "cells": [
  {
   "cell_type": "code",
   "execution_count": 0,
   "metadata": {},
   "outputs": [],
   "source": []
  },
  {
   "cell_type": "markdown",
   "metadata": {},
   "source": [
    "\n",
    "\\cleardoublepage\n",
    "\n",
    "\n",
    "## LSTM - activities and transitions\n",
    "\n",
    "An LSTM network with 1 or more LSTM layers and a Dense layer as the output layer is implemented. Both activities and transitions are classified. See @lst:lstm_activities_transitions_base_cfg for the base configuration used for the LSTM. This base configuration contains parameters that worked well on classifying only activities.\n",
    "\n",
    "```{#lst:lstm_activities_transitions_base_cfg caption='Base configuration for LSTM' .yaml}\n",
    "\n",
    "lstm_layer:\n",
    "  units: 50\n",
    "  activation: relu\n",
    "  dropout: 0.0\n",
    "  kernel_regularizer_l2: 0.001\n",
    "  activity_regularizer_l1: 0.001\n",
    "output_layer:\n",
    "  activation: softmax\n",
    "  kernel_regularizer_l2: 0.001\n",
    "  activity_regularizer_l1: 0.001\n",
    "loss: categorical_crossentropy\n",
    "optimizer:\n",
    "  adam:\n",
    "    lr: 0.001\n",
    "    beta_1: 0.9\n",
    "    beta_2: 0.999\n",
    "    decay: 0.0\n",
    "metrics: ['accuracy']\n",
    "epochs: 100\n",
    "batch_size: 200\n",
    "```\n"
   ]
  }
 ],
 "metadata": {
  "kernelspec": {
   "display_name": "",
   "language": "python",
   "name": "masterthesis_tf_keras"
  },
  "language_info": {
   "codemirror_mode": {
    "name": "ipython",
    "version": 3
   },
   "file_extension": ".py",
   "mimetype": "text/x-python",
   "name": "python",
   "nbconvert_exporter": "python",
   "pygments_lexer": "ipython3",
   "version": "3.6.7"
  }
 },
 "nbformat": 4,
 "nbformat_minor": 2
}
