{
 "cells": [
  {
   "cell_type": "code",
   "execution_count": 0,
   "metadata": {},
   "outputs": [],
   "source": []
  },
  {
   "cell_type": "markdown",
   "metadata": {},
   "source": [
    "\n",
    "\\cleardoublepage\n",
    "\n",
    "\n",
    "## Final models\n",
    "\n",
    "The best performing models on the test data are validated on the validation set to understand their generalizability to entirely new data. Models are checked both for classifying activities only and classifying activities and transitions.\n",
    "\n",
    "```{#lst:best_model_activities_cfg caption='Configuration of best performing LSTMs on activity and transition classification.' .yaml}\n",
    "\n",
    "lstm_layer:\n",
    "  units: 50\n",
    "  activation: relu\n",
    "  dropout: 0.0\n",
    "  kernel_regularizer_l2: 0.001\n",
    "  activity_regularizer_l1: 0.001\n",
    "output_layer:\n",
    "  activation: softmax\n",
    "  kernel_regularizer_l2: 0.001\n",
    "  activity_regularizer_l1: 0.001\n",
    "loss: categorical_crossentropy\n",
    "optimizer:\n",
    "  adam:\n",
    "    lr: 0.001\n",
    "    beta_1: 0.9\n",
    "    beta_2: 0.999\n",
    "    decay: 0.0\n",
    "metrics: ['accuracy']\n",
    "epochs: 100\n",
    "batch_size: 200\n",
    "```\n"
   ]
  }
 ],
 "metadata": {
  "kernelspec": {
   "display_name": "",
   "language": "python",
   "name": "masterthesis_tf_keras"
  },
  "language_info": {
   "codemirror_mode": {
    "name": "ipython",
    "version": 3
   },
   "file_extension": ".py",
   "mimetype": "text/x-python",
   "name": "python",
   "nbconvert_exporter": "python",
   "pygments_lexer": "ipython3",
   "version": "3.6.7"
  }
 },
 "nbformat": 4,
 "nbformat_minor": 2
}
